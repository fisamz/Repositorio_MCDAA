{
 "cells": [
  {
   "cell_type": "code",
   "execution_count": 1,
   "id": "fc5f85c4",
   "metadata": {},
   "outputs": [
    {
     "name": "stdout",
     "output_type": "stream",
     "text": [
      "Hola mundo\n"
     ]
    }
   ],
   "source": [
    "print( \"Hola mundo\" )"
   ]
  },
  {
   "cell_type": "markdown",
   "id": "760293a0",
   "metadata": {},
   "source": [
    "# Hola mundo, este es mi primer código en python :)\n",
    "## Espero pronto ser tan bueno como lo soy en R\n",
    "### Por lo pronto, es el kikc off :0"
   ]
  },
  {
   "cell_type": "markdown",
   "id": "2ce9afd3",
   "metadata": {},
   "source": []
  },
  {
   "cell_type": "code",
   "execution_count": 18,
   "id": "849599d5",
   "metadata": {},
   "outputs": [
    {
     "data": {
      "text/plain": [
       "10"
      ]
     },
     "execution_count": 18,
     "metadata": {},
     "output_type": "execute_result"
    }
   ],
   "source": [
    "5 + 5\n"
   ]
  },
  {
   "cell_type": "code",
   "execution_count": 1,
   "id": "102b5a71",
   "metadata": {},
   "outputs": [
    {
     "name": "stdout",
     "output_type": "stream",
     "text": [
      "/opt/miniconda3/envs/ml_env/bin/python\n",
      "numpy: 2.3.3\n",
      "pandas: 2.3.3\n",
      "sklearn: 1.7.2\n"
     ]
    }
   ],
   "source": [
    "import sys, numpy as np, pandas as pd, sklearn\n",
    "print(sys.executable)\n",
    "print(\"numpy:\", np.__version__)\n",
    "print(\"pandas:\", pd.__version__)\n",
    "print(\"sklearn:\", sklearn.__version__)\n",
    "\n"
   ]
  },
  {
   "cell_type": "code",
   "execution_count": 2,
   "id": "da8ac7cf",
   "metadata": {},
   "outputs": [
    {
     "name": "stdout",
     "output_type": "stream",
     "text": [
      "Python: /opt/miniconda3/envs/ml_env/bin/python\n",
      "numpy: 2.3.3 | pandas: 2.3.3\n",
      "Coef: 2.0 Intercepto: 0.0\n"
     ]
    }
   ],
   "source": [
    "import sys\n",
    "import numpy as np\n",
    "import pandas as pd\n",
    "import matplotlib.pyplot as plt\n",
    "import seaborn as sns\n",
    "from sklearn.linear_model import LinearRegression\n",
    "\n",
    "print(\"Python:\", sys.executable)\n",
    "print(\"numpy:\", np.__version__, \"| pandas:\", pd.__version__)\n",
    "\n",
    "# Mini demo de scikit-learn\n",
    "X = np.array([[1],[2],[3],[4]])\n",
    "y = np.array([2,4,6,8])\n",
    "m = LinearRegression().fit(X, y)\n",
    "print(\"Coef:\", m.coef_[0], \"Intercepto:\", m.intercept_)\n"
   ]
  }
 ],
 "metadata": {
  "kernelspec": {
   "display_name": "ml_env",
   "language": "python",
   "name": "python3"
  },
  "language_info": {
   "codemirror_mode": {
    "name": "ipython",
    "version": 3
   },
   "file_extension": ".py",
   "mimetype": "text/x-python",
   "name": "python",
   "nbconvert_exporter": "python",
   "pygments_lexer": "ipython3",
   "version": "3.11.11"
  }
 },
 "nbformat": 4,
 "nbformat_minor": 5
}
