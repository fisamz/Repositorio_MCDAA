{
 "cells": [
  {
   "cell_type": "code",
   "execution_count": null,
   "id": "2929f929",
   "metadata": {},
   "outputs": [],
   "source": [
    "[![Open In Colab](https://colab.research.google.com/assets/colab-badge.svg)](https://colab.research.google.com/github/fisamz/Repositorio_MCDAA/blob/main/Tarea4/Tarea4.ipynb)"
   ]
  },
  {
   "cell_type": "markdown",
   "id": "b26e718a",
   "metadata": {},
   "source": [
    "# Tarea 4 — Selección de características  \n",
    "**Alumno:** Fisam Zavala  \n",
    "**Dataset:** Mental Health and Lifestyle Habits (2019–2024)  \n",
    "**Fuente:** [Kaggle – Atharva Soundankar](https://www.kaggle.com/datasets/atharvasoundankar/mental-health-and-lifestyle-habits-2019-2024)\n"
   ]
  }
 ],
 "metadata": {
  "kernelspec": {
   "display_name": "ml_env",
   "language": "python",
   "name": "python3"
  },
  "language_info": {
   "name": "python",
   "version": "3.11.11"
  }
 },
 "nbformat": 4,
 "nbformat_minor": 5
}
