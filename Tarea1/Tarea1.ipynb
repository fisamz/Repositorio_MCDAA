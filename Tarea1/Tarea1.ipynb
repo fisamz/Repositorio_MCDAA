{
 "cells": [
  {
   "cell_type": "markdown",
   "id": "f5feeb42",
   "metadata": {},
   "source": [
    "[![Open In Colab](https://colab.research.google.com/assets/colab-badge.svg)](https://colab.research.google.com/github/fisamz/Repositorio_MCDAA/blob/main/Tarea1/Tarea1.ipynb)\n"
   ]
  },
  {
   "cell_type": "markdown",
   "id": "a3efcca9",
   "metadata": {},
   "source": [
    "# Tarea 01 — Kick off con archivo ipynb\n",
    "\n",
    "**Alcance:** En el siguiente código se mostraran algunas funcionalidades basicas al momento de programar en python:\n",
    "\n",
    "1. Importar librerías principales.  \n",
    "2. Cargar un dataset predefinido de `scikit-learn`.  \n",
    "3. Calcular algunos estadísticos descriptivos.  \n",
    "4. Visualizar los datos con un gráfico sencillo.\n",
    "\n",
    "> El objetivo de este notebook es servir como plantilla para futuros análisis."
   ]
  },
  {
   "cell_type": "markdown",
   "id": "58bff011",
   "metadata": {},
   "source": [
    "## Definición del conjunto de datos\n",
    "\n",
    "Este conjunto de datos recopila información relacionada con **hábitos de vida y salud mental** entre 2019 y 2024.  \n",
    "Busca analizar cómo factores como **rutinas de ejercicio, calidad del sueño, dieta, estrés y felicidad** se relacionan con el bienestar general.\n",
    "\n",
    "Cada registro corresponde a una persona encuestada, con variables demográficas y de estilo de vida.\n",
    "\n",
    "### Variables principales\n",
    "\n",
    "| Columna | Descripción | Tipo de dato esperado |\n",
    "|----------|--------------|----------------------|\n",
    "| `Country` | País del encuestado | *object (string)* |\n",
    "| `Year` | Año de la encuesta | *int* |\n",
    "| `Age Group` | Rango de edad (ej. 18–24, 25–34) | *category (string)* |\n",
    "| `Gender` | Género de la persona | *category (string)* |\n",
    "| `Sleep Hours` | Horas promedio de sueño por día | *float* |\n",
    "| `Diet Quality` | Calidad de la dieta (Healthy, Moderate, Poor) | *category (string)* |\n",
    "| `Exercise Frequency` | Frecuencia semanal de ejercicio | *int* |\n",
    "| `Social Interaction Level` | Nivel de socialización (High, Medium, Low) | *category (string)* |\n",
    "| `Stress Level` | Nivel de estrés (1–10) | *int* |\n",
    "| `Anxiety Score` | Nivel de ansiedad (1–10) | *int* |\n",
    "| `Happiness Index` | Nivel de felicidad (1–10) | *int* |"
   ]
  }
 ],
 "metadata": {
  "kernelspec": {
   "display_name": "ml_env",
   "language": "python",
   "name": "python3"
  },
  "language_info": {
   "codemirror_mode": {
    "name": "ipython",
    "version": 3
   },
   "file_extension": ".py",
   "mimetype": "text/x-python",
   "name": "python",
   "nbconvert_exporter": "python",
   "pygments_lexer": "ipython3",
   "version": "3.11.11"
  }
 },
 "nbformat": 4,
 "nbformat_minor": 5
}
