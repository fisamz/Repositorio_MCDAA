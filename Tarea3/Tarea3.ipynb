{
 "cells": [
  {
   "cell_type": "markdown",
   "id": "8a94bb38",
   "metadata": {},
   "source": [
    "[![Open In Colab](https://colab.research.google.com/assets/colab-badge.svg)](https://colab.research.google.com/github/fisamz/Repositorio_MCDAA/blob/main/Tarea3/Tarea3.ipynb)"
   ]
  },
  {
   "cell_type": "markdown",
   "id": "70d9112d",
   "metadata": {},
   "source": [
    "# Tarea 3 — Estadistica Descriptiva  \n",
    "**Alumno:** Fisam Zavala  \n",
    "**Dataset:** Mental Health and Lifestyle Habits (2019–2024)  \n",
    "**Fuente:** [Kaggle – Atharva Soundankar](https://www.kaggle.com/datasets/atharvasoundankar/mental-health-and-lifestyle-habits-2019-2024)\n"
   ]
  }
 ],
 "metadata": {
  "kernelspec": {
   "display_name": "ml_env",
   "language": "python",
   "name": "python3"
  },
  "language_info": {
   "name": "python",
   "version": "3.11.11"
  }
 },
 "nbformat": 4,
 "nbformat_minor": 5
}
